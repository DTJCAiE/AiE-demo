{
 "cells": [
  {
   "attachments": {},
   "cell_type": "markdown",
   "metadata": {},
   "source": [
    "*Question 5.19* (page 207)\n",
    "\n",
    "Use the data in [cps4_small.dat](http://www.principlesofeconometrics.com/poe4/data/stata/cps4_small.dta) to estimate the following wage equation\n",
    "$$\n",
    "\\ln (W A G E)=\\beta_1+\\beta_2 E D U C+\\beta_3 E X P E R+\\beta_4 H R S W K+e\n",
    "$$"
   ]
  },
  {
   "attachments": {},
   "cell_type": "markdown",
   "metadata": {},
   "source": [
    "\n",
    "(a) Report the results. Interpret the estimates for $\\beta_2$, $\\beta_3$, and $\\beta_4$. Are these estimates significantly different from zero?\n",
    "\n"
   ]
  },
  {
   "attachments": {},
   "cell_type": "markdown",
   "metadata": {},
   "source": [
    "(b) Test the hypothesis that an extra year of education increases the wage rate by at least $10 \\%$ against the alternative that it is less than $10 \\%$.\n"
   ]
  },
  {
   "attachments": {},
   "cell_type": "markdown",
   "metadata": {},
   "source": [
    "(c) Find a $90 \\%$ interval estimate for the percentage increase in wage from working an additional hour per week."
   ]
  },
  {
   "attachments": {},
   "cell_type": "markdown",
   "metadata": {},
   "source": [
    "(d) Re-estimate the model with the additional variables $E D U C \\times E X P E R, E D U C^2$, and $E X P E R^2$. Report the results. Are the estimated coefficients significantly different from zero?"
   ]
  },
  {
   "attachments": {},
   "cell_type": "markdown",
   "metadata": {},
   "source": [
    "(e) For the new model, find expressions for the marginal effects $\\partial \\ln (W A G E) /$ $\\partial E D U C$ and $\\partial \\ln (W A G E) / \\partial E X P E R$."
   ]
  }
 ],
 "metadata": {
  "kernelspec": {
   "display_name": "Python 3",
   "language": "python",
   "name": "python3"
  },
  "language_info": {
   "name": "python",
   "version": "3.9.6"
  },
  "orig_nbformat": 4
 },
 "nbformat": 4,
 "nbformat_minor": 2
}
