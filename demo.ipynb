{
 "cells": [
  {
   "attachments": {},
   "cell_type": "markdown",
   "metadata": {},
   "source": [
    "||   |\n",
    "|-|-|\n",
    "|![](cover.png)| [Principles of Econometrics, 4th Edition](http://principlesofeconometrics.com/poe4/poe4.htm)<br> Publisher: Wiley; 4th edition (January 4, 2011)<br> Language: English<br> Hardcover: 784 pages<br> ISBN-10: 0470626739<br> ISBN-13: 978-0470626733|\n",
    "\n"
   ]
  },
  {
   "attachments": {},
   "cell_type": "markdown",
   "metadata": {},
   "source": [
    "### Question 5.19\n",
    "\n",
    "Use the data in [cps4_small.dat](http://www.principlesofeconometrics.com/poe4/data/stata/cps4_small.dta) to estimate the following wage equation\n",
    "$$\n",
    "\\ln (W A G E)=\\beta_1+\\beta_2 E D U C+\\beta_3 E X P E R+\\beta_4 H R S W K+e\n",
    "$$"
   ]
  },
  {
   "cell_type": "code",
   "execution_count": 11,
   "metadata": {},
   "outputs": [],
   "source": [
    "import pandas as pd\n",
    "pd = pd.read_stata('http://www.principlesofeconometrics.com/poe4/data/stata/cps4_small.dta')\n",
    "\n",
    "# import libraries\n",
    "import pandas as pandas\n",
    "import numpy as np\n",
    "import matplotlib.pyplot as plt\n",
    "\n",
    "import scipy.stats as stats\n",
    "from statsmodels.regression.linear_model import OLS\n",
    "\n",
    "import statsmodels.api as sm\n",
    "\n",
    "import scipy\n",
    "import patsy\n",
    "\n",
    "import warnings\n",
    "warnings.filterwarnings(\"ignore\")"
   ]
  },
  {
   "attachments": {},
   "cell_type": "markdown",
   "metadata": {},
   "source": [
    "\n",
    "(a) Report the results. Interpret the estimates for $\\beta_2$, $\\beta_3$, and $\\beta_4$. Are these estimates significantly different from zero?\n",
    "\n"
   ]
  },
  {
   "cell_type": "code",
   "execution_count": 21,
   "metadata": {},
   "outputs": [
    {
     "name": "stdout",
     "output_type": "stream",
     "text": [
      "                 Generalized Linear Model Regression Results                  \n",
      "==============================================================================\n",
      "Dep. Variable:        np.log(pd.wage)   No. Observations:                 1000\n",
      "Model:                            GLM   Df Residuals:                      996\n",
      "Model Family:                Gaussian   Df Model:                            3\n",
      "Link Function:               identity   Scale:                         0.26386\n",
      "Method:                          IRLS   Log-Likelihood:                -750.76\n",
      "Date:                Mon, 15 May 2023   Deviance:                       262.80\n",
      "Time:                        15:31:07   Pearson chi2:                     263.\n",
      "No. Iterations:                     3   Pseudo R-squ. (CS):             0.2445\n",
      "Covariance Type:                  HC1                                         \n",
      "==============================================================================\n",
      "                 coef    std err          z      P>|z|      [0.025      0.975]\n",
      "------------------------------------------------------------------------------\n",
      "Intercept      1.1005      0.118      9.290      0.000       0.868       1.333\n",
      "educ           0.0903      0.007     13.149      0.000       0.077       0.104\n",
      "exper          0.0058      0.001      4.223      0.000       0.003       0.008\n",
      "hrswk          0.0089      0.002      5.331      0.000       0.006       0.012\n",
      "==============================================================================\n"
     ]
    }
   ],
   "source": [
    "f = 'np.log(pd.wage) ~ educ + exper + hrswk'\n",
    "y, X = patsy.dmatrices(f, data=pd, return_type='dataframe')\n",
    "OLS_from_GLM = sm.GLM(y, X)\n",
    "fit = OLS_from_GLM.fit(cov_type='HC1')\n",
    "print(fit.summary())\n"
   ]
  },
  {
   "attachments": {},
   "cell_type": "markdown",
   "metadata": {},
   "source": [
    "Education, experience, and hours work have a positive and significant effect on the log of wages earned. $\\beta_2$, $\\beta_3$, and $\\beta_4$ are all significantly different than zero."
   ]
  },
  {
   "attachments": {},
   "cell_type": "markdown",
   "metadata": {},
   "source": [
    "(b) Test the hypothesis that an extra year of education increases the wage rate by at least $10 \\%$ against the alternative that it is less than $10 \\%$.\n"
   ]
  },
  {
   "cell_type": "code",
   "execution_count": 30,
   "metadata": {},
   "outputs": [
    {
     "data": {
      "text/plain": [
       "<class 'statsmodels.stats.contrast.ContrastResults'>\n",
       "                             Test for Constraints                             \n",
       "==============================================================================\n",
       "                 coef    std err          z      P>|z|      [0.025      0.975]\n",
       "------------------------------------------------------------------------------\n",
       "c0             0.0827      0.016     -1.052      0.293       0.051       0.115\n",
       "=============================================================================="
      ]
     },
     "execution_count": 30,
     "metadata": {},
     "output_type": "execute_result"
    }
   ],
   "source": [
    "fit.t_test('educ = 0.1')"
   ]
  },
  {
   "attachments": {},
   "cell_type": "markdown",
   "metadata": {},
   "source": [
    "Because the z value is greater than -1.64, we fail to reject the null hypothesis. "
   ]
  },
  {
   "attachments": {},
   "cell_type": "markdown",
   "metadata": {},
   "source": [
    "(c) Find a $90 \\%$ interval estimate for the percentage increase in wage from working an additional hour per week."
   ]
  },
  {
   "cell_type": "code",
   "execution_count": null,
   "metadata": {},
   "outputs": [],
   "source": [
    "fit.conf_int(alpha=0.1)"
   ]
  },
  {
   "attachments": {},
   "cell_type": "markdown",
   "metadata": {},
   "source": [
    "(d) Re-estimate the model with the additional variables $E D U C \\times E X P E R, E D U C^2$, and $E X P E R^2$. Report the results. Are the estimated coefficients significantly different from zero?"
   ]
  },
  {
   "cell_type": "code",
   "execution_count": 22,
   "metadata": {},
   "outputs": [
    {
     "name": "stdout",
     "output_type": "stream",
     "text": [
      "                 Generalized Linear Model Regression Results                  \n",
      "==============================================================================\n",
      "Dep. Variable:        np.log(pd.wage)   No. Observations:                 1000\n",
      "Model:                            GLM   Df Residuals:                      993\n",
      "Model Family:                Gaussian   Df Model:                            6\n",
      "Link Function:               identity   Scale:                         0.26261\n",
      "Method:                          IRLS   Log-Likelihood:                -746.88\n",
      "Date:                Mon, 15 May 2023   Deviance:                       260.77\n",
      "Time:                        15:31:21   Pearson chi2:                     261.\n",
      "No. Iterations:                     3   Pseudo R-squ. (CS):             0.2513\n",
      "Covariance Type:                  HC1                                         \n",
      "==============================================================================\n",
      "                 coef    std err          z      P>|z|      [0.025      0.975]\n",
      "------------------------------------------------------------------------------\n",
      "Intercept      1.2425      0.235      5.288      0.000       0.782       1.703\n",
      "educ           0.0827      0.016      5.035      0.000       0.051       0.115\n",
      "exper          0.0044      0.008      0.584      0.559      -0.010       0.019\n",
      "educ2          0.0603      0.028      2.119      0.034       0.005       0.116\n",
      "exper2        -0.0378      0.024     -1.597      0.110      -0.084       0.009\n",
      "educ:exper  6.199e-05      0.001      0.109      0.913      -0.001       0.001\n",
      "hrswk          0.0091      0.002      5.451      0.000       0.006       0.012\n",
      "==============================================================================\n"
     ]
    }
   ],
   "source": [
    "pd['educ2'] = (pd.educ**2)/100\n",
    "pd['exper2'] = (pd.exper**2)/100\n",
    "\n",
    "f = 'np.log(pd.wage) ~ educ + exper + educ2 + exper2 + educ*exper + hrswk'\n",
    "y, X = patsy.dmatrices(f, data=pd, return_type='dataframe')\n",
    "OLS_from_GLM = sm.GLM(y, X)\n",
    "fit = OLS_from_GLM.fit(cov_type='HC1')\n",
    "print(fit.summary())"
   ]
  },
  {
   "attachments": {},
   "cell_type": "markdown",
   "metadata": {},
   "source": [
    "Coefficients on education, education squared, and hours worked are significantly different from zero."
   ]
  },
  {
   "attachments": {},
   "cell_type": "markdown",
   "metadata": {},
   "source": [
    "(e) For the new model, find expressions for the marginal effects $\\partial \\ln (W A G E) /$ $\\partial E D U C$ and $\\partial \\ln (W A G E) / \\partial E X P E R$."
   ]
  },
  {
   "attachments": {},
   "cell_type": "markdown",
   "metadata": {},
   "source": [
    "ln(wage) = $\\beta_0 + \\beta_1 EDUC + \\beta_2 EXPER + \\beta_3 EDU^2 + \\beta_4 EXPER^2 + \\beta_5 EDUC*EXPER +\\beta_6 HRSWK + \\epsilon \n",
    "\\newline\n",
    "\\frac{\\partial ln(WAGE)}{\\partial{EDUC}} = \\beta_1 + 2\\beta_3 EDUC + \\beta_5 EXPER\n",
    "\\newline\n",
    "\\frac{\\partial ln(WAGE)}{\\partial{EXPER}} = \\beta_1 + 2\\beta_4 EXPER + \\beta_5 EDUC$ "
   ]
  }
 ],
 "metadata": {
  "kernelspec": {
   "display_name": "Python 3 (ipykernel)",
   "language": "python",
   "name": "python3"
  },
  "language_info": {
   "codemirror_mode": {
    "name": "ipython",
    "version": 3
   },
   "file_extension": ".py",
   "mimetype": "text/x-python",
   "name": "python",
   "nbconvert_exporter": "python",
   "pygments_lexer": "ipython3",
   "version": "3.9.13"
  },
  "orig_nbformat": 4
 },
 "nbformat": 4,
 "nbformat_minor": 2
}
